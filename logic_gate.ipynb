{
 "cells": [
  {
   "cell_type": "code",
   "execution_count": 89,
   "metadata": {},
   "outputs": [
    {
     "data": {
      "text/plain": [
       "<torch._C.Generator at 0x299f69f0210>"
      ]
     },
     "execution_count": 89,
     "metadata": {},
     "output_type": "execute_result"
    }
   ],
   "source": [
    "import torch\n",
    "import torch.nn as nn\n",
    "torch.manual_seed(777)"
   ]
  },
  {
   "cell_type": "code",
   "execution_count": 90,
   "metadata": {},
   "outputs": [],
   "source": [
    "x=torch.FloatTensor([[0,0],[0,1],[1,0],[1,1]])\n",
    "y=torch.FloatTensor([[0],[0],[0],[1]])\n",
    "\n",
    "model=nn.Sequential(nn.Linear(2,1),nn.Sigmoid())"
   ]
  },
  {
   "cell_type": "code",
   "execution_count": 91,
   "metadata": {},
   "outputs": [],
   "source": [
    "criterion=torch.nn.BCELoss()\n",
    "optimizer=torch.optim.SGD(model.parameters(), lr=1)\n",
    "\n",
    "\n"
   ]
  },
  {
   "cell_type": "code",
   "execution_count": 92,
   "metadata": {},
   "outputs": [
    {
     "name": "stdout",
     "output_type": "stream",
     "text": [
      "epoch:0, cost:0.6932064294815063\n",
      "epoch:100, cost:0.14414836466312408\n",
      "epoch:200, cost:0.0817771703004837\n",
      "epoch:300, cost:0.05658476799726486\n",
      "epoch:400, cost:0.04307378828525543\n",
      "epoch:500, cost:0.03469350188970566\n",
      "epoch:600, cost:0.029005466029047966\n",
      "epoch:700, cost:0.024899723008275032\n",
      "epoch:800, cost:0.021800503134727478\n",
      "epoch:900, cost:0.01938023790717125\n",
      "epoch:1000, cost:0.01743890717625618\n"
     ]
    }
   ],
   "source": [
    "for epoch in range(1001):\n",
    "  h_hat=model(x)\n",
    "  cost=criterion(h_hat,y)\n",
    "\n",
    "  optimizer.zero_grad()\n",
    "  cost.backward()\n",
    "  optimizer.step()\n",
    "\n",
    "  if epoch % 100 == 0:\n",
    "    print('epoch:{}, cost:{}'.format(epoch,cost.item()))"
   ]
  },
  {
   "cell_type": "code",
   "execution_count": 93,
   "metadata": {},
   "outputs": [
    {
     "name": "stdout",
     "output_type": "stream",
     "text": [
      "tensor([[1.2462e-05],\n",
      "        [2.0246e-02],\n",
      "        [2.0246e-02],\n",
      "        [9.7164e-01]])\n",
      "tensor([[0.],\n",
      "        [0.],\n",
      "        [0.],\n",
      "        [1.]])\n"
     ]
    }
   ],
   "source": [
    "with torch.no_grad():\n",
    "  pred=model(x)\n",
    "  predicted=(pred>0.5).float()\n",
    "\n",
    "print(pred)\n",
    "print(predicted)\n",
    "\n"
   ]
  },
  {
   "cell_type": "code",
   "execution_count": 94,
   "metadata": {},
   "outputs": [],
   "source": [
    "model=nn.Sequential(nn.Linear(2,10, bias=True),nn.Sigmoid(),\n",
    "                    nn.Linear(10,10, bias=True),nn.Sigmoid(),\n",
    "                    nn.Linear(10,10),\n",
    "                    nn.Linear(10,1,bias=True),nn.Sigmoid())\n"
   ]
  },
  {
   "cell_type": "code",
   "execution_count": 95,
   "metadata": {},
   "outputs": [],
   "source": [
    "criterion1=torch.nn.BCELoss()\n",
    "optimizer=torch.optim.SGD(model.parameters(),lr=1)\n"
   ]
  },
  {
   "cell_type": "code",
   "execution_count": 96,
   "metadata": {},
   "outputs": [
    {
     "name": "stdout",
     "output_type": "stream",
     "text": [
      "epoch:0,cost:0.673554539680481\n"
     ]
    },
    {
     "name": "stdout",
     "output_type": "stream",
     "text": [
      "epoch:100,cost:0.17558470368385315\n",
      "epoch:200,cost:0.0030957814306020737\n",
      "epoch:300,cost:0.0009294991614297032\n",
      "epoch:400,cost:0.0005110654747113585\n",
      "epoch:500,cost:0.0003430704236961901\n",
      "epoch:600,cost:0.00025452752015553415\n",
      "epoch:700,cost:0.0002005162968998775\n",
      "epoch:800,cost:0.00016443940694443882\n",
      "epoch:900,cost:0.00013875158037990332\n",
      "epoch:1000,cost:0.000119639458716847\n",
      "epoch:1100,cost:0.00010488509724382311\n",
      "epoch:1200,cost:9.317811782239005e-05\n",
      "epoch:1300,cost:8.370212890440598e-05\n",
      "epoch:1400,cost:7.586622086819261e-05\n",
      "epoch:1500,cost:6.929102528374642e-05\n",
      "epoch:1600,cost:6.371623021550477e-05\n",
      "epoch:1700,cost:5.8906065532937646e-05\n",
      "epoch:1800,cost:5.473384590004571e-05\n",
      "epoch:1900,cost:5.10888421558775e-05\n",
      "epoch:2000,cost:4.787264333572239e-05\n",
      "epoch:2100,cost:4.499437636695802e-05\n",
      "epoch:2200,cost:4.2429513996466994e-05\n",
      "epoch:2300,cost:4.015810918645002e-05\n",
      "epoch:2400,cost:3.807455868809484e-05\n",
      "epoch:2500,cost:3.619556810008362e-05\n",
      "epoch:2600,cost:3.448009738349356e-05\n",
      "epoch:2700,cost:3.2888943678699434e-05\n",
      "epoch:2800,cost:3.144446236547083e-05\n",
      "epoch:2900,cost:3.010992077179253e-05\n",
      "epoch:3000,cost:2.8909686079714447e-05\n",
      "epoch:3100,cost:2.774972017505206e-05\n",
      "epoch:3200,cost:2.6715020794654265e-05\n",
      "epoch:3300,cost:2.5712546630529687e-05\n",
      "epoch:3400,cost:2.479878457961604e-05\n",
      "epoch:3500,cost:2.3941160179674625e-05\n",
      "epoch:3600,cost:2.3137330572353676e-05\n",
      "epoch:3700,cost:2.238508386653848e-05\n",
      "epoch:3800,cost:2.168252831324935e-05\n",
      "epoch:3900,cost:2.0998211766709574e-05\n",
      "epoch:4000,cost:2.0390081772347912e-05\n",
      "epoch:4100,cost:1.9797436834778637e-05\n",
      "epoch:4200,cost:1.9218919987906702e-05\n",
      "epoch:4300,cost:1.868328035925515e-05\n",
      "epoch:4400,cost:1.8189708498539403e-05\n",
      "epoch:4500,cost:1.770712697179988e-05\n",
      "epoch:4600,cost:1.7235153791261837e-05\n",
      "epoch:4700,cost:1.6802609025035053e-05\n",
      "epoch:4800,cost:1.6379042790504172e-05\n",
      "epoch:4900,cost:1.5993715351214632e-05\n",
      "epoch:5000,cost:1.5616336895618588e-05\n",
      "epoch:5100,cost:1.52463744598208e-05\n",
      "epoch:5200,cost:1.4883237781759817e-05\n",
      "epoch:5300,cost:1.4556381756847259e-05\n",
      "epoch:5400,cost:1.4235764865588862e-05\n",
      "epoch:5500,cost:1.3920779565523844e-05\n",
      "epoch:5600,cost:1.3641056284541264e-05\n",
      "epoch:5700,cost:1.336645527771907e-05\n",
      "epoch:5800,cost:1.3096521797706373e-05\n",
      "epoch:5900,cost:1.2831267667934299e-05\n",
      "epoch:6000,cost:1.2570242688525468e-05\n",
      "epoch:6100,cost:1.2343089110800065e-05\n",
      "epoch:6200,cost:1.2090025848010555e-05\n",
      "epoch:6300,cost:1.1870350135723129e-05\n",
      "epoch:6400,cost:1.1654088666546158e-05\n",
      "epoch:6500,cost:1.144129601016175e-05\n",
      "epoch:6600,cost:1.123159108828986e-05\n",
      "epoch:6700,cost:1.1054595233872533e-05\n",
      "epoch:6800,cost:1.085063922801055e-05\n",
      "epoch:6900,cost:1.0679302249627654e-05\n",
      "epoch:7000,cost:1.0480755008757114e-05\n",
      "epoch:7100,cost:1.0314387509424705e-05\n",
      "epoch:7200,cost:1.0150307389267255e-05\n",
      "epoch:7300,cost:9.988714737119153e-06\n",
      "epoch:7400,cost:9.828983820625581e-06\n",
      "epoch:7500,cost:9.671369298303034e-06\n",
      "epoch:7600,cost:9.515930287307128e-06\n",
      "epoch:7700,cost:9.392104402650148e-06\n",
      "epoch:7800,cost:9.240089639206417e-06\n",
      "epoch:7900,cost:9.090122148336377e-06\n",
      "epoch:8000,cost:8.971470379037783e-06\n",
      "epoch:8100,cost:8.854415682435501e-06\n",
      "epoch:8200,cost:8.708995665074326e-06\n",
      "epoch:8300,cost:8.595013241574634e-06\n",
      "epoch:8400,cost:8.482390512654092e-06\n",
      "epoch:8500,cost:8.371249350602739e-06\n",
      "epoch:8600,cost:8.231437277572695e-06\n",
      "epoch:8700,cost:8.12275266071083e-06\n",
      "epoch:8800,cost:8.01535315986257e-06\n",
      "epoch:8900,cost:7.909186024335213e-06\n",
      "epoch:9000,cost:7.8338207458728e-06\n",
      "epoch:9100,cost:7.729690878477413e-06\n",
      "epoch:9200,cost:7.626926162629388e-06\n",
      "epoch:9300,cost:7.5249458859616425e-06\n",
      "epoch:9400,cost:7.423988790833391e-06\n",
      "epoch:9500,cost:7.3536621130187996e-06\n",
      "epoch:9600,cost:7.254539468704024e-06\n",
      "epoch:9700,cost:7.156502761063166e-06\n",
      "epoch:9800,cost:7.08909783497802e-06\n",
      "epoch:9900,cost:6.992524959059665e-06\n",
      "epoch:10000,cost:6.926562946318882e-06\n"
     ]
    }
   ],
   "source": [
    "for epoch in range(10001):\n",
    "  h_hat=model(x)\n",
    "  cost=criterion1(h_hat,y)\n",
    "  optimizer.zero_grad()\n",
    "  cost.backward()\n",
    "  optimizer.step()\n",
    "\n",
    "  if epoch % 100 == 0:\n",
    "    print('epoch:{},cost:{}'.format(epoch,cost.item()))"
   ]
  },
  {
   "cell_type": "code",
   "execution_count": 98,
   "metadata": {},
   "outputs": [
    {
     "name": "stdout",
     "output_type": "stream",
     "text": [
      "tensor([[0.],\n",
      "        [0.],\n",
      "        [0.],\n",
      "        [1.]])\n"
     ]
    }
   ],
   "source": [
    "with torch.no_grad():\n",
    "  pred=model(x)\n",
    "  predicted=(pred> 0.5). float()\n",
    "\n",
    "  print(predicted)\n"
   ]
  },
  {
   "cell_type": "code",
   "execution_count": 100,
   "metadata": {},
   "outputs": [],
   "source": [
    "# 그냥 해보세용\n",
    "x=torch.FloatTensor([[0,0],[0,1],[1,0],[1,1]])\n",
    "y=torch.FloatTensor([[1],[1],[1],[0]])"
   ]
  }
 ],
 "metadata": {
  "kernelspec": {
   "display_name": "base",
   "language": "python",
   "name": "python3"
  },
  "language_info": {
   "codemirror_mode": {
    "name": "ipython",
    "version": 3
   },
   "file_extension": ".py",
   "mimetype": "text/x-python",
   "name": "python",
   "nbconvert_exporter": "python",
   "pygments_lexer": "ipython3",
   "version": "3.11.4"
  },
  "orig_nbformat": 4
 },
 "nbformat": 4,
 "nbformat_minor": 2
}
