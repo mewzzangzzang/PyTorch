{
 "cells": [
  {
   "cell_type": "code",
   "execution_count": 2,
   "metadata": {},
   "outputs": [],
   "source": [
    "import torch"
   ]
  },
  {
   "cell_type": "code",
   "execution_count": 3,
   "metadata": {},
   "outputs": [
    {
     "name": "stdout",
     "output_type": "stream",
     "text": [
      "tensor([1, 2, 3, 4, 5])\n",
      "tensor([[1., 2., 3.],\n",
      "        [4., 5., 6.]], dtype=torch.float64)\n",
      "tensor([[1., 2., 3.],\n",
      "        [4., 5., 6.]])\n"
     ]
    }
   ],
   "source": [
    "print(torch.tensor([1,2,3,4,5]))\n",
    "print(torch.tensor([[1,2,3],[4,5,6]],dtype=torch.float64))\n",
    "print(torch.tensor([[1,2,3],[4,5,6]], dtype=torch.float32)) "
   ]
  },
  {
   "cell_type": "code",
   "execution_count": 4,
   "metadata": {},
   "outputs": [
    {
     "name": "stdout",
     "output_type": "stream",
     "text": [
      "tensor([[1., 2., 3.],\n",
      "        [4., 5., 6.]])\n",
      "tensor([[1., 2., 3.],\n",
      "        [4., 5., 6.]])\n",
      "tensor([[1., 0.],\n",
      "        [0., 1.]])\n"
     ]
    }
   ],
   "source": [
    "ft=torch.FloatTensor([[1,2,3],[4,5,6]]);print(ft)\n",
    "lt=torch.FloatTensor([[1,2,3],[4,5,6]]);print(lt)\n",
    "bt=torch.FloatTensor([[1,0],[0,1]]);print(bt)"
   ]
  },
  {
   "cell_type": "code",
   "execution_count": 7,
   "metadata": {},
   "outputs": [
    {
     "name": "stdout",
     "output_type": "stream",
     "text": [
      "[[1 2 3]\n",
      " [4 5 6]] <class 'numpy.ndarray'> (2, 3)\n"
     ]
    }
   ],
   "source": [
    "import numpy as np\n",
    "x=np.array([[1,2,3],[4,5,6]])\n",
    "# np배열 생성\n",
    "print(x,type(x),x.shape)\n"
   ]
  },
  {
   "cell_type": "code",
   "execution_count": 8,
   "metadata": {},
   "outputs": [
    {
     "name": "stdout",
     "output_type": "stream",
     "text": [
      "tensor([[1, 2, 3],\n",
      "        [4, 5, 6]], dtype=torch.int32) <class 'torch.Tensor'> torch.Size([2, 3]) torch.Size([2, 3])\n"
     ]
    }
   ],
   "source": [
    "tx=torch.from_numpy(x)\n",
    "print(tx,type(tx),tx.shape,tx.size())\n",
    "# pytorch 텐서(데이터 형태)생성\n"
   ]
  },
  {
   "cell_type": "code",
   "execution_count": 12,
   "metadata": {},
   "outputs": [
    {
     "name": "stdout",
     "output_type": "stream",
     "text": [
      "[[1 2 3]\n",
      " [4 5 6]] <class 'numpy.ndarray'> (2, 3)\n"
     ]
    }
   ],
   "source": [
    "nx=tx.numpy()\n",
    "print(nx,type(nx),nx.shape)\n",
    "# numpy는 size() 사용불가"
   ]
  },
  {
   "cell_type": "code",
   "execution_count": 14,
   "metadata": {},
   "outputs": [
    {
     "name": "stdout",
     "output_type": "stream",
     "text": [
      "tensor([[1., 2., 3.],\n",
      "        [4., 5., 6.]]) tensor([[1, 2, 3],\n",
      "        [4, 5, 6]])\n",
      "tensor([[1., 2., 3.],\n",
      "        [4., 5., 6.]]) tensor([[1., 2., 3.],\n",
      "        [4., 5., 6.]])\n",
      "tensor([[1., 0.],\n",
      "        [0., 1.]]) tensor([[1, 0],\n",
      "        [0, 1]])\n"
     ]
    }
   ],
   "source": [
    "print(ft,ft.long())\n",
    "# long형으로 형변환 ft.long()\n",
    "print(lt,lt.float())\n",
    "# float()형으로 형변환\n",
    "print (bt,bt.long())\n",
    "\n"
   ]
  },
  {
   "cell_type": "code",
   "execution_count": 23,
   "metadata": {},
   "outputs": [
    {
     "data": {
      "text/plain": [
       "tensor([[[ 1,  2],\n",
       "         [ 3,  4],\n",
       "         [ 5,  6],\n",
       "         [ 7,  8],\n",
       "         [ 9, 10],\n",
       "         [11, 12]]])"
      ]
     },
     "execution_count": 23,
     "metadata": {},
     "output_type": "execute_result"
    }
   ],
   "source": [
    "x=torch.tensor([[[1,2],[3,4],[5,6],[7,8],[9,10],[11,12,]]])\n",
    "x"
   ]
  },
  {
   "cell_type": "code",
   "execution_count": 29,
   "metadata": {},
   "outputs": [
    {
     "name": "stdout",
     "output_type": "stream",
     "text": [
      "torch.Size([1, 6, 2])\n",
      "torch.Size([1, 6, 2])\n",
      "x.dim 3\n",
      "len(x.size()) 3\n",
      "1\n",
      "1\n",
      "6\n",
      "6\n",
      "2\n",
      "2\n",
      "2\n",
      "2\n"
     ]
    }
   ],
   "source": [
    "print(x.shape)\n",
    "print(x.size())\n",
    "# x의 차원계수\n",
    "print('x.dim',x.dim())\n",
    "# x의 사이즈 len\n",
    "print('len(x.size())',len(x.size()))\n",
    "print(x.size(0))\n",
    "print(x.shape[0])\n",
    "print(x.size(1))\n",
    "print(x.shape[1])\n",
    "print(x.size(2))\n",
    "print(x.shape[2])\n",
    "# 마지막위치 -1(리버스)\n",
    "print(x.size(-1))\n",
    "print(x.shape[-1])\n"
   ]
  },
  {
   "cell_type": "code",
   "execution_count": 33,
   "metadata": {},
   "outputs": [],
   "source": [
    "a=torch.FloatTensor([[1,2],[3,4]])\n",
    "b=torch.FloatTensor([[2,2],[3,3]])\n"
   ]
  },
  {
   "cell_type": "code",
   "execution_count": 37,
   "metadata": {},
   "outputs": [
    {
     "name": "stdout",
     "output_type": "stream",
     "text": [
      "a+b: tensor([[3., 4.],\n",
      "        [6., 7.]])\n",
      "a-b: tensor([[-1.,  0.],\n",
      "        [ 0.,  1.]])\n",
      "a*b: tensor([[ 2.,  4.],\n",
      "        [ 9., 12.]])\n",
      "a/b: tensor([[0.5000, 1.0000],\n",
      "        [1.0000, 1.3333]])\n",
      "a//b: tensor([[0., 1.],\n",
      "        [1., 1.]])\n",
      "a==b: tensor([[False,  True],\n",
      "        [ True, False]])\n",
      "a!=b: tensor([[ True, False],\n",
      "        [False,  True]])\n",
      "a**b: tensor([[ 1.,  4.],\n",
      "        [27., 64.]])\n"
     ]
    }
   ],
   "source": [
    "print('a+b:',a+b)\n",
    "print('a-b:',a-b)\n",
    "print('a*b:',a*b)\n",
    "print('a/b:',a/b)\n",
    "print('a//b:',a//b)\n",
    "print('a==b:',a==b)\n",
    "print('a!=b:',a!=b)\n",
    "print('a**b:',a**b)\n"
   ]
  },
  {
   "cell_type": "code",
   "execution_count": 40,
   "metadata": {},
   "outputs": [
    {
     "name": "stdout",
     "output_type": "stream",
     "text": [
      "tensor([[1., 2.],\n",
      "        [3., 4.]])\n",
      "tensor([[2., 3.],\n",
      "        [4., 5.]])\n",
      "tensor([[2., 4.],\n",
      "        [4., 6.]])\n"
     ]
    }
   ],
   "source": [
    "print(a)\n",
    "print(a+1)\n",
    "# 요소가 다르면 오류티비\n",
    "print(a+torch.tensor([1,2]))\n"
   ]
  },
  {
   "cell_type": "code",
   "execution_count": 42,
   "metadata": {},
   "outputs": [
    {
     "name": "stdout",
     "output_type": "stream",
     "text": [
      "tensor([[1., 2.],\n",
      "        [3., 4.]])\n",
      "tensor([[ 2.,  4.],\n",
      "        [ 9., 12.]])\n",
      "tensor([[ 2.,  4.],\n",
      "        [ 9., 12.]])\n"
     ]
    }
   ],
   "source": [
    "print(a)\n",
    "print(a.mul_ (b))\n",
    "print(a)"
   ]
  },
  {
   "cell_type": "code",
   "execution_count": 44,
   "metadata": {},
   "outputs": [
    {
     "name": "stdout",
     "output_type": "stream",
     "text": [
      "tensor([[2., 2.],\n",
      "        [3., 3.]])\n",
      "tensor(10.)\n",
      "tensor([5., 5.])\n",
      "tensor([4., 6.])\n",
      "tensor(2.5000)\n"
     ]
    }
   ],
   "source": [
    "print(b)\n",
    "print(b.sum())\n",
    "print(b.sum(dim=0))\n",
    "print(b.sum(dim=1))\n",
    "print(b.mean())\n"
   ]
  },
  {
   "cell_type": "code",
   "execution_count": 47,
   "metadata": {},
   "outputs": [],
   "source": [
    "x=np.arange(1,13).reshape(3,2,2)\n",
    "# 3차원 tensor\n",
    "tx=torch.from_numpy(x)"
   ]
  },
  {
   "cell_type": "code",
   "execution_count": 52,
   "metadata": {},
   "outputs": [
    {
     "name": "stdout",
     "output_type": "stream",
     "text": [
      "tensor([[ 1,  2,  3,  4],\n",
      "        [ 5,  6,  7,  8],\n",
      "        [ 9, 10, 11, 12]], dtype=torch.int32)\n",
      "tensor([[[ 1,  2],\n",
      "         [ 3,  4],\n",
      "         [ 5,  6]],\n",
      "\n",
      "        [[ 7,  8],\n",
      "         [ 9, 10],\n",
      "         [11, 12]]], dtype=torch.int32)\n",
      "tensor([[ 1,  2,  3,  4],\n",
      "        [ 5,  6,  7,  8],\n",
      "        [ 9, 10, 11, 12]], dtype=torch.int32)\n",
      "tensor([[ 1,  2,  3],\n",
      "        [ 4,  5,  6],\n",
      "        [ 7,  8,  9],\n",
      "        [10, 11, 12]], dtype=torch.int32)\n"
     ]
    }
   ],
   "source": [
    "print(tx.view(3,4))\n",
    "print(tx.view(2,3,2))\n",
    "# -1은 모양을 잘 모를때\n",
    "print(tx.view(3,-1))\n",
    "print(tx.view(-1,3))\n"
   ]
  },
  {
   "cell_type": "code",
   "execution_count": 54,
   "metadata": {},
   "outputs": [
    {
     "data": {
      "text/plain": [
       "tensor([[[ 1,  2,  3,  4]],\n",
       "\n",
       "        [[ 5,  6,  7,  8]],\n",
       "\n",
       "        [[ 9, 10, 11, 12]]], dtype=torch.int32)"
      ]
     },
     "execution_count": 54,
     "metadata": {},
     "output_type": "execute_result"
    }
   ],
   "source": [
    "xx=tx.view(3,1,4)\n",
    "xx"
   ]
  },
  {
   "cell_type": "code",
   "execution_count": 56,
   "metadata": {},
   "outputs": [
    {
     "name": "stdout",
     "output_type": "stream",
     "text": [
      "tensor([[ 1,  2,  3,  4],\n",
      "        [ 5,  6,  7,  8],\n",
      "        [ 9, 10, 11, 12]], dtype=torch.int32)\n",
      "tensor([[[ 1,  2],\n",
      "         [ 3,  4],\n",
      "         [ 5,  6]],\n",
      "\n",
      "        [[ 7,  8],\n",
      "         [ 9, 10],\n",
      "         [11, 12]]], dtype=torch.int32)\n"
     ]
    }
   ],
   "source": [
    "x1=tx.view(3,1,4)\n",
    "x2=tx.view(1,2,3,2)\n",
    "# 차원제거\n",
    "print(x1.squeeze())\n",
    "print(x2.squeeze())"
   ]
  },
  {
   "cell_type": "code",
   "execution_count": 59,
   "metadata": {},
   "outputs": [
    {
     "name": "stdout",
     "output_type": "stream",
     "text": [
      "torch.Size([3, 1, 4])\n"
     ]
    },
    {
     "data": {
      "text/plain": [
       "torch.Size([3, 1, 4])"
      ]
     },
     "execution_count": 59,
     "metadata": {},
     "output_type": "execute_result"
    }
   ],
   "source": [
    "print(x1.size())\n",
    "# 차원삽입\n",
    "x1.unsqueeze(1)\n",
    "x1.size()"
   ]
  },
  {
   "cell_type": "code",
   "execution_count": 71,
   "metadata": {},
   "outputs": [
    {
     "name": "stdout",
     "output_type": "stream",
     "text": [
      "tensor([[1, 2],\n",
      "        [3, 4]], dtype=torch.int32)\n",
      "tensor([[1, 2],\n",
      "        [3, 4]], dtype=torch.int32)\n",
      "tensor([[1, 2],\n",
      "        [3, 4]], dtype=torch.int32)\n",
      "tensor([3, 4], dtype=torch.int32)\n",
      "tensor([2, 4], dtype=torch.int32)\n",
      "tensor([[ 9, 10],\n",
      "        [11, 12]], dtype=torch.int32)\n"
     ]
    }
   ],
   "source": [
    "# 3차원중 1번째 요소\n",
    "print(tx[0])\n",
    "# 3차원요소 1번째, 전부\n",
    "print(tx[0,:])\n",
    "\n",
    "print(tx[0,:,:])\n",
    "\n",
    "print(tx[0,1,:])\n",
    "\n",
    "print(tx[0,:,1])\n",
    "\n",
    "print(tx[-1,:])\n"
   ]
  },
  {
   "cell_type": "code",
   "execution_count": 76,
   "metadata": {},
   "outputs": [
    {
     "name": "stdout",
     "output_type": "stream",
     "text": [
      "torch.Size([4, 4])\n",
      "torch.Size([4, 4])\n",
      "torch.Size([2, 4])\n"
     ]
    }
   ],
   "source": [
    "# 텐서 자르기 split\n",
    "\n",
    "# x=torch.FloatTensor(10,4)\n",
    "# x 정수화\n",
    "x=torch.arange(1,41).view(10,4)\n",
    "# 스플릿 크기 4 dim=0은 2차원인데 크기 4로 자른다\n",
    "splits=x.split(4,dim=0)\n",
    "for s in splits:\n",
    "  print(s.size())\n"
   ]
  },
  {
   "cell_type": "code",
   "execution_count": 80,
   "metadata": {},
   "outputs": [
    {
     "name": "stdout",
     "output_type": "stream",
     "text": [
      "torch.Size([4, 3])\n",
      "torch.Size([4, 3])\n",
      "torch.Size([4, 3])\n",
      "torch.Size([4, 1])\n"
     ]
    }
   ],
   "source": [
    "x1=torch.arange(1,41).view(4,10)\n",
    "splits1=x1.split(3,dim=1)\n",
    "for s in splits1:\n",
    "  print(s.size())"
   ]
  },
  {
   "cell_type": "code",
   "execution_count": 81,
   "metadata": {},
   "outputs": [
    {
     "name": "stdout",
     "output_type": "stream",
     "text": [
      "torch.Size([5, 4])\n",
      "torch.Size([5, 4])\n"
     ]
    }
   ],
   "source": [
    "# chunks\n",
    "# 몇개의 구역으로 자를건지\n",
    "chunks=x.chunk(2,dim=0)\n",
    "\n",
    "for c in chunks:\n",
    "  print(c.size())"
   ]
  },
  {
   "cell_type": "code",
   "execution_count": 87,
   "metadata": {},
   "outputs": [
    {
     "name": "stdout",
     "output_type": "stream",
     "text": [
      "tensor([[ 1,  2,  3,  4],\n",
      "        [ 5,  6,  7,  8],\n",
      "        [ 9, 10, 11, 12],\n",
      "        [13, 14, 15, 16],\n",
      "        [17, 18, 19, 20],\n",
      "        [21, 22, 23, 24],\n",
      "        [25, 26, 27, 28],\n",
      "        [29, 30, 31, 32],\n",
      "        [33, 34, 35, 36],\n",
      "        [37, 38, 39, 40]])\n",
      "tensor([[21, 22, 23, 24],\n",
      "        [ 9, 10, 11, 12]])\n"
     ]
    }
   ],
   "source": [
    "# index_select\n",
    "indice=torch.LongTensor([5,2])\n",
    "# x.index_select(dim=0,index=indice)\n",
    "y=x.index_select(dim=0,index=indice)\n",
    "print(x)\n",
    "print(y)\n"
   ]
  },
  {
   "cell_type": "code",
   "execution_count": 89,
   "metadata": {},
   "outputs": [
    {
     "data": {
      "text/plain": [
       "tensor([[ 2.,  4.,  2.,  2.],\n",
       "        [ 9., 12.,  3.,  3.]])"
      ]
     },
     "execution_count": 89,
     "metadata": {},
     "output_type": "execute_result"
    }
   ],
   "source": [
    "# Concatenate()\n",
    "c=torch.cat([a,b],dim=1)\n",
    "c"
   ]
  },
  {
   "cell_type": "code",
   "execution_count": 93,
   "metadata": {},
   "outputs": [
    {
     "name": "stdout",
     "output_type": "stream",
     "text": [
      "tensor([[[ 2.,  4.],\n",
      "         [ 9., 12.]],\n",
      "\n",
      "        [[ 2.,  2.],\n",
      "         [ 3.,  3.]]])\n",
      "torch.Size([2, 2, 2])\n",
      "torch.Size([2, 2])\n",
      "torch.Size([2, 2])\n"
     ]
    }
   ],
   "source": [
    "# stack()\n",
    "d=torch.stack([a,b])\n",
    "print(d)\n",
    "print(d.size())\n",
    "print(a.size())\n",
    "print(b.size())"
   ]
  },
  {
   "cell_type": "code",
   "execution_count": 96,
   "metadata": {},
   "outputs": [
    {
     "name": "stdout",
     "output_type": "stream",
     "text": [
      "tensor([[[ 2.,  4.]],\n",
      "\n",
      "        [[ 9., 12.]]])\n",
      "torch.Size([2, 1, 2])\n"
     ]
    },
    {
     "data": {
      "text/plain": [
       "tensor([[[ 2.,  4.],\n",
       "         [ 2.,  4.],\n",
       "         [ 2.,  4.]],\n",
       "\n",
       "        [[ 9., 12.],\n",
       "         [ 9., 12.],\n",
       "         [ 9., 12.]]])"
      ]
     },
     "execution_count": 96,
     "metadata": {},
     "output_type": "execute_result"
    }
   ],
   "source": [
    "# stack()\n",
    "aa=a.view(2,1,2)\n",
    "print(aa)\n",
    "print(aa.size())\n",
    "y=aa.expand(2,3,2)\n",
    "y"
   ]
  },
  {
   "cell_type": "code",
   "execution_count": 99,
   "metadata": {},
   "outputs": [
    {
     "data": {
      "text/plain": [
       "tensor([[[ 2.,  4.],\n",
       "         [ 2.,  4.],\n",
       "         [ 2.,  4.]],\n",
       "\n",
       "        [[ 9., 12.],\n",
       "         [ 9., 12.],\n",
       "         [ 9., 12.]]])"
      ]
     },
     "execution_count": 99,
     "metadata": {},
     "output_type": "execute_result"
    }
   ],
   "source": [
    "y1=torch.cat([aa]*3,dim=1)\n",
    "y1"
   ]
  },
  {
   "cell_type": "code",
   "execution_count": 101,
   "metadata": {},
   "outputs": [
    {
     "data": {
      "text/plain": [
       "tensor([6, 4, 8, 9, 0, 5, 2, 3, 1, 7])"
      ]
     },
     "execution_count": 101,
     "metadata": {},
     "output_type": "execute_result"
    }
   ],
   "source": [
    "# n까지 랜덤 수열 생성\n",
    "x=torch.randperm(10).view(-1,5,5)\n",
    "# 다차원으로 생성가능\n",
    "x"
   ]
  },
  {
   "cell_type": "code",
   "execution_count": 104,
   "metadata": {},
   "outputs": [
    {
     "data": {
      "text/plain": [
       "tensor([[[23, 17, 15],\n",
       "         [25, 22, 20],\n",
       "         [13,  1,  7]],\n",
       "\n",
       "        [[18,  3, 26],\n",
       "         [12,  5,  2],\n",
       "         [ 4, 14, 21]],\n",
       "\n",
       "        [[24, 11,  8],\n",
       "         [ 6, 16, 19],\n",
       "         [ 0,  9, 10]]])"
      ]
     },
     "execution_count": 104,
     "metadata": {},
     "output_type": "execute_result"
    }
   ],
   "source": [
    "#argmax\n",
    "# 3**3사이의 랜덤 수열\n",
    "x=torch.randperm(3**3).view(3,3,-1)\n",
    "x"
   ]
  },
  {
   "cell_type": "code",
   "execution_count": 107,
   "metadata": {},
   "outputs": [
    {
     "name": "stdout",
     "output_type": "stream",
     "text": [
      "tensor([[0, 0, 0],\n",
      "        [2, 0, 2],\n",
      "        [0, 2, 2]])\n",
      "torch.Size([3, 3])\n"
     ]
    }
   ],
   "source": [
    "y=x.argmax(dim=-1)\n",
    "print(y)\n",
    "print(y.size())\n"
   ]
  },
  {
   "cell_type": "code",
   "execution_count": 110,
   "metadata": {},
   "outputs": [
    {
     "name": "stdout",
     "output_type": "stream",
     "text": [
      "tensor([[[23, 17],\n",
      "         [25, 22],\n",
      "         [13,  7]],\n",
      "\n",
      "        [[26, 18],\n",
      "         [12,  5],\n",
      "         [21, 14]],\n",
      "\n",
      "        [[24, 11],\n",
      "         [19, 16],\n",
      "         [10,  9]]])\n",
      "tensor([[[0, 1],\n",
      "         [0, 1],\n",
      "         [0, 2]],\n",
      "\n",
      "        [[2, 0],\n",
      "         [0, 1],\n",
      "         [2, 1]],\n",
      "\n",
      "        [[0, 1],\n",
      "         [2, 1],\n",
      "         [2, 1]]])\n",
      "torch.Size([3, 3, 2])\n"
     ]
    }
   ],
   "source": [
    "# 1차원에서 가장 큰 k개의 값과 index 반환\n",
    "value,indices=torch.topk(x,k=2,dim=-1)\n",
    "print(value)\n",
    "print(indices)\n",
    "print(indices.size())\n"
   ]
  },
  {
   "cell_type": "code",
   "execution_count": 117,
   "metadata": {},
   "outputs": [
    {
     "name": "stdout",
     "output_type": "stream",
     "text": [
      "tensor([[[ True,  True,  True],\n",
      "         [ True,  True,  True],\n",
      "         [ True, False, False]],\n",
      "\n",
      "        [[ True, False,  True],\n",
      "         [ True, False, False],\n",
      "         [False,  True,  True]],\n",
      "\n",
      "        [[ True,  True, False],\n",
      "         [False,  True,  True],\n",
      "         [False, False, False]]])\n",
      "tensor([[[ 0,  0,  0],\n",
      "         [ 0,  0,  0],\n",
      "         [ 0,  1,  7]],\n",
      "\n",
      "        [[ 0,  3,  0],\n",
      "         [ 0,  5,  2],\n",
      "         [ 4,  0,  0]],\n",
      "\n",
      "        [[ 0,  0,  8],\n",
      "         [ 6,  0,  0],\n",
      "         [ 0,  9, 10]]])\n"
     ]
    }
   ],
   "source": [
    "# 마스크 true에 원하는 value 값\n",
    "mask=x>10\n",
    "print(mask)\n",
    "y=x.masked_fill(mask,value=0)\n",
    "print(y)\n"
   ]
  },
  {
   "cell_type": "code",
   "execution_count": 119,
   "metadata": {},
   "outputs": [
    {
     "name": "stdout",
     "output_type": "stream",
     "text": [
      "tensor([[1., 1., 1.],\n",
      "        [1., 1., 1.]])\n",
      "tensor([[0., 0., 0.],\n",
      "        [0., 0., 0.]])\n",
      "tensor([[1., 1., 1.],\n",
      "        [1., 1., 1.]])\n",
      "tensor([[1., 1.],\n",
      "        [1., 1.]])\n",
      "tensor([[0., 0.],\n",
      "        [0., 0.]])\n"
     ]
    }
   ],
   "source": [
    "# 기본적으로 사용할 (유용한) 함수들 ones,zeros, ones_like, zeros_like \n",
    "print(torch.ones(2,3))\n",
    "print(torch.zeros(2,3))\n",
    "print(torch.ones(2,3))\n",
    "print(torch.ones_like(a))\n",
    "print(torch.zeros_like(a))\n"
   ]
  }
 ],
 "metadata": {
  "kernelspec": {
   "display_name": "base",
   "language": "python",
   "name": "python3"
  },
  "language_info": {
   "codemirror_mode": {
    "name": "ipython",
    "version": 3
   },
   "file_extension": ".py",
   "mimetype": "text/x-python",
   "name": "python",
   "nbconvert_exporter": "python",
   "pygments_lexer": "ipython3",
   "version": "3.11.4"
  },
  "orig_nbformat": 4
 },
 "nbformat": 4,
 "nbformat_minor": 2
}
