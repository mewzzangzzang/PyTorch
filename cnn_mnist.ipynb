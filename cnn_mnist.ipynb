{
 "cells": [
  {
   "cell_type": "code",
   "execution_count": 50,
   "metadata": {},
   "outputs": [],
   "source": [
    "import torch\n",
    "# 이미지데이터를 사용하기 위해서 기존 데이터 사용, 변형\n",
    "import torchvision.datasets as dataset\n",
    "import torchvision.transforms as transforms\n",
    "from torch.utils.data import DataLoader\n",
    "import torch.nn as nn\n",
    "import matplotlib.pyplot as plt\n",
    "import random\n",
    "import torch.optim as optim\n",
    "import torch.nn.functional as F"
   ]
  },
  {
   "cell_type": "code",
   "execution_count": 51,
   "metadata": {},
   "outputs": [],
   "source": [
    "learning_rate=0.001\n",
    "epochs=30\n",
    "batch_size=256\n"
   ]
  },
  {
   "cell_type": "code",
   "execution_count": 52,
   "metadata": {},
   "outputs": [],
   "source": [
    "mnist_train=dataset.MNIST(root=\"data/MNIST_data\", #데이터 저장위치\n",
    "                          train=True, #train data로 지정\n",
    "                          transform=transforms.ToTensor(), #array -> toTensor로 변환\n",
    "                          download=True\n",
    "                          )\n",
    "mnist_test=dataset.MNIST(root=\"data/MNIST_data\", #데이터 저장위치\n",
    "                          train=False, #train data로 지정\n",
    "                          transform=transforms.ToTensor(), #array -> toTensor로 변환\n",
    "                          download=True\n",
    "                          )"
   ]
  },
  {
   "cell_type": "code",
   "execution_count": 53,
   "metadata": {},
   "outputs": [
    {
     "name": "stdout",
     "output_type": "stream",
     "text": [
      "Dataset MNIST\n",
      "    Number of datapoints: 60000\n",
      "    Root location: data/MNIST_data\n",
      "    Split: Train\n",
      "    StandardTransform\n",
      "Transform: ToTensor()\n",
      "Dataset MNIST\n",
      "    Number of datapoints: 10000\n",
      "    Root location: data/MNIST_data\n",
      "    Split: Test\n",
      "    StandardTransform\n",
      "Transform: ToTensor()\n"
     ]
    }
   ],
   "source": [
    "print(mnist_train)\n",
    "print(mnist_test)"
   ]
  },
  {
   "cell_type": "code",
   "execution_count": 54,
   "metadata": {},
   "outputs": [],
   "source": [
    "data_loader=DataLoader(dataset=mnist_train,\n",
    "                       batch_size=batch_size,\n",
    "                       shuffle=True,\n",
    "                       drop_last=True #뽑은거는 중복사용안함\n",
    "                       )\n",
    "test_loader=DataLoader(dataset=mnist_test,batch_size=batch_size,shuffle=True,drop_last=True)\n"
   ]
  },
  {
   "cell_type": "code",
   "execution_count": 55,
   "metadata": {},
   "outputs": [
    {
     "name": "stdout",
     "output_type": "stream",
     "text": [
      "234 39\n"
     ]
    }
   ],
   "source": [
    "cnt_batch_train=len(data_loader) #234\n",
    "cnt_batch_test=len(test_loader) #39\n",
    "print(cnt_batch_train,cnt_batch_test)\n"
   ]
  },
  {
   "cell_type": "code",
   "execution_count": 56,
   "metadata": {},
   "outputs": [
    {
     "name": "stdout",
     "output_type": "stream",
     "text": [
      "torch.Size([256, 1, 28, 28]) torch.Size([256])\n"
     ]
    }
   ],
   "source": [
    "# 한번에 가져오기\n",
    "for X, Y in data_loader:\n",
    "  print(X.size(),Y.size())\n",
    "  break"
   ]
  },
  {
   "cell_type": "code",
   "execution_count": 57,
   "metadata": {},
   "outputs": [],
   "source": [
    "# 모델 클래스 정의\n",
    "class CNN(nn.Module):\n",
    "  def __init__(self):\n",
    "    super().__init__()\n",
    "    # 첫번째 레이어 합성곱연산\n",
    "    self.layer1=nn.Sequential(\n",
    "    nn.Conv2d(1,32, kernel_size=3, padding=1),\n",
    "    nn.ReLU(),\n",
    "    nn.MaxPool2d(kernel_size=2, stride=2))\n",
    "    # 위의 작업 이후에 [32,14,14] 변환됨\n",
    "    self.layer2=nn.Sequential(\n",
    "      nn.Conv2d(32,64,kernel_size=3, padding=1, stride=1),\n",
    "      nn.ReLU(),\n",
    "      nn.MaxPool2d(kernel_size=2, stride=2)\n",
    "    )\n",
    "    # 위의 작업이 끝나면 [64,7,7]로 변환됨\n",
    "    self.fc=nn.Linear(7*7*64, 10, bias=True)\n",
    "    nn.init.xavier_uniform_(self.fc.weight) #완전연결층 한정 가중치 초기화\n",
    "\n",
    "  def forward(self,x):\n",
    "    out=self.layer1(x)\n",
    "    out=self.layer2(out)\n",
    "    out=out.view(out.size(0),-1)\n",
    "    out=self.fc(out)\n",
    "    return out\n",
    "  "
   ]
  },
  {
   "cell_type": "code",
   "execution_count": 58,
   "metadata": {},
   "outputs": [],
   "source": [
    "device='cuda' if torch.cuda.is_available() else 'cpu'\n",
    "torch.manual_seed(777)\n",
    "if device=='cuda':\n",
    "    torch.cuda.manual_seed_all(777)"
   ]
  },
  {
   "cell_type": "code",
   "execution_count": 59,
   "metadata": {},
   "outputs": [],
   "source": [
    "model=CNN().to(device)\n",
    "crit=nn.CrossEntropyLoss().to(device)\n",
    "optimizer=optim.Adam(model.parameters(), lr=learning_rate)"
   ]
  },
  {
   "cell_type": "code",
   "execution_count": 60,
   "metadata": {},
   "outputs": [
    {
     "name": "stdout",
     "output_type": "stream",
     "text": [
      "epoch:0, cost:0.3640304505825043\n",
      "epoch:1, cost:0.08700936287641525\n",
      "epoch:2, cost:0.0591961145401001\n",
      "epoch:3, cost:0.04933690279722214\n",
      "epoch:4, cost:0.04188058152794838\n",
      "epoch:5, cost:0.03708373382687569\n",
      "epoch:6, cost:0.030959146097302437\n",
      "epoch:7, cost:0.028140027076005936\n",
      "epoch:8, cost:0.024494893848896027\n",
      "epoch:9, cost:0.023070797324180603\n",
      "epoch:10, cost:0.020784756168723106\n",
      "epoch:11, cost:0.01809876039624214\n",
      "epoch:12, cost:0.01578572578728199\n",
      "epoch:13, cost:0.013490571640431881\n",
      "epoch:14, cost:0.012442294508218765\n",
      "epoch:15, cost:0.012364866212010384\n",
      "epoch:16, cost:0.009047540836036205\n",
      "epoch:17, cost:0.007815792225301266\n",
      "epoch:18, cost:0.008343075402081013\n",
      "epoch:19, cost:0.008001962676644325\n",
      "epoch:20, cost:0.005982185713946819\n",
      "epoch:21, cost:0.006338717881590128\n",
      "epoch:22, cost:0.006913800723850727\n",
      "epoch:23, cost:0.0039850566536188126\n",
      "epoch:24, cost:0.004027584567666054\n",
      "epoch:25, cost:0.005263627041131258\n",
      "epoch:26, cost:0.0039057235699146986\n",
      "epoch:27, cost:0.0033660714980214834\n",
      "epoch:28, cost:0.0021479155402630568\n",
      "epoch:29, cost:0.0011353455483913422\n"
     ]
    }
   ],
   "source": [
    "for epoch in range(epochs):\n",
    "  avg_cost=0\n",
    "\n",
    "  for X,Y in data_loader:\n",
    "    X=X.to(device) \n",
    "    Y=Y.to(device) \n",
    "\n",
    "    y_hat=model(X)\n",
    "    optimizer.zero_grad()\n",
    "    cost=crit(y_hat,Y)\n",
    "    cost.backward()\n",
    "    optimizer.step()\n",
    "\n",
    "    avg_cost+=cost/cnt_batch_train\n",
    "  print('epoch:{}, cost:{}'.format(epoch,avg_cost.item()))  \n",
    "  \n"
   ]
  },
  {
   "cell_type": "code",
   "execution_count": null,
   "metadata": {},
   "outputs": [],
   "source": [
    "with torch.no_grad():\n",
    "  accuracys=0\n",
    "\n",
    "  for X, Y in test_loader:\n",
    "    X=X.to(device)\n",
    "    Y=Y.to(device)\n",
    "\n",
    "    pred=model(X)\n",
    "    accuracy=(pred.argmax(dim=1)==Y).sum()\n",
    "    accuracys+=accuracy\n",
    "    print(pred)\n",
    "    print(Y)\n",
    "    print(accuracy)\n",
    "  print(accuracy/cnt_batch_test*batch_size)\n"
   ]
  }
 ],
 "metadata": {
  "kernelspec": {
   "display_name": "base",
   "language": "python",
   "name": "python3"
  },
  "language_info": {
   "codemirror_mode": {
    "name": "ipython",
    "version": 3
   },
   "file_extension": ".py",
   "mimetype": "text/x-python",
   "name": "python",
   "nbconvert_exporter": "python",
   "pygments_lexer": "ipython3",
   "version": "3.11.4"
  },
  "orig_nbformat": 4
 },
 "nbformat": 4,
 "nbformat_minor": 2
}
