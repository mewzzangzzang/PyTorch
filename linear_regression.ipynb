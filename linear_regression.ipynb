{
 "cells": [
  {
   "cell_type": "code",
   "execution_count": 1,
   "metadata": {},
   "outputs": [],
   "source": [
    "import numpy as np\n"
   ]
  },
  {
   "cell_type": "code",
   "execution_count": 2,
   "metadata": {},
   "outputs": [
    {
     "name": "stdout",
     "output_type": "stream",
     "text": [
      "[[1]\n",
      " [2]\n",
      " [3]\n",
      " [4]\n",
      " [5]]\n",
      "[[ 3]\n",
      " [ 5]\n",
      " [ 7]\n",
      " [ 9]\n",
      " [11]]\n"
     ]
    }
   ],
   "source": [
    "x_data=np.array([1,2,3,4,5]).reshape(5,1)\n",
    "y_data=np.array([3,5,7,9,11]).reshape(5,1)\n",
    "# y=2x+1\n",
    "print(x_data)\n",
    "print(y_data)\n",
    "# 새로 data1 테스트생성\n",
    "x_data1=np.array([[1,2],[2,3],[3,4],[4,5],[5,6]]).reshape(5,2)\n",
    "y_data1=np.array([3,5,7,9,11]).reshape(5,1)"
   ]
  },
  {
   "cell_type": "code",
   "execution_count": 3,
   "metadata": {},
   "outputs": [],
   "source": [
    "# w=np.random.rand(1,1)\n",
    "# b=np.random.rand(1)\n",
    "# print(w,b)\n",
    "w1=np.random.rand(2,1)\n",
    "b1=np.random.rand(1)"
   ]
  },
  {
   "cell_type": "code",
   "execution_count": 4,
   "metadata": {},
   "outputs": [],
   "source": [
    "def loss_func(x,t):\n",
    "  y=np.dot(x,w1)+b1\n",
    "  return (np.sum((t-y)**2))/(len(x))"
   ]
  },
  {
   "cell_type": "code",
   "execution_count": 5,
   "metadata": {},
   "outputs": [],
   "source": [
    "# def loss_func(x,t):\n",
    "#   y=np.dot(x,w)+b\n",
    "#   return (np.sum((t-y)**2))/(len(x))"
   ]
  },
  {
   "cell_type": "code",
   "execution_count": 6,
   "metadata": {},
   "outputs": [],
   "source": [
    "def numerical_derivative(f,x):\n",
    "  delta_x=1e-4\n",
    "  grad=np.zeros_like(x)\n",
    "\n",
    "  it=np.nditer(x,flags=['multi_index'], op_flags=['readwrite'])\n",
    "\n",
    "  while not it.finished:\n",
    "    idx=it.multi_index\n",
    "    tmp_val=x[idx]\n",
    "    x[idx]=float(tmp_val)+delta_x\n",
    "    fx1=f(x)\n",
    "    x[idx]=tmp_val-delta_x\n",
    "    fx2=f(x)\n",
    "\n",
    "    grad[idx]=(fx1-fx2)/(2*delta_x)\n",
    "  \n",
    "\n",
    "    x[idx]=tmp_val\n",
    "    it.iternext()\n",
    "\n",
    "  return grad"
   ]
  },
  {
   "cell_type": "code",
   "execution_count": 7,
   "metadata": {},
   "outputs": [],
   "source": [
    "def predict(x):\n",
    "  y=np.dot(x, w1)+b1\n",
    "  return y"
   ]
  },
  {
   "cell_type": "code",
   "execution_count": 8,
   "metadata": {},
   "outputs": [],
   "source": [
    "# def predict(x):\n",
    "#   y=np.dot(x, w)+b\n",
    "#   return y"
   ]
  },
  {
   "cell_type": "code",
   "execution_count": 9,
   "metadata": {},
   "outputs": [
    {
     "name": "stdout",
     "output_type": "stream",
     "text": [
      "Initial error value= 20.04075828283073 Initial w= [[0.5982462 ]\n",
      " [0.17621147]] b= [0.37284354]\n",
      "step: 0 error value: 3.4475485322259347 w= [[0.89492221]\n",
      " [0.55543892]] b= [0.40725623]\n",
      "step: 100 error value: 0.005290908211255869 w= [[1.14850618]\n",
      " [0.80347039]] b= [0.36664618]\n",
      "step: 200 error value: 0.002341010377982203 w= [[1.17797986]\n",
      " [0.79007611]] b= [0.32308134]\n",
      "step: 300 error value: 0.0010358012974334809 w= [[1.19758504]\n",
      " [0.78116656]] b= [0.29410306]\n",
      "step: 400 error value: 0.00045829968882475934 w= [[1.21062593]\n",
      " [0.77524014]] b= [0.2748274]\n",
      "step: 500 error value: 0.0002027788585488026 w= [[1.21930042]\n",
      " [0.77129803]] b= [0.2620057]\n",
      "step: 600 error value: 8.972134713813985e-05 w= [[1.22507049]\n",
      " [0.76867583]] b= [0.25347701]\n",
      "step: 700 error value: 3.969802468507165e-05 w= [[1.22890859]\n",
      " [0.7669316 ]] b= [0.24780393]\n"
     ]
    },
    {
     "name": "stdout",
     "output_type": "stream",
     "text": [
      "step: 800 error value: 1.75647514684575e-05 w= [[1.23146161]\n",
      " [0.76577139]] b= [0.24403034]\n",
      "step: 900 error value: 7.77168377006362e-06 w= [[1.23315982]\n",
      " [0.76499964]] b= [0.24152023]\n",
      "step: 1000 error value: 3.4386520487026192e-06 w= [[1.23428942]\n",
      " [0.76448629]] b= [0.23985057]\n",
      "step: 1100 error value: 1.5214628209111292e-06 w= [[1.23504081]\n",
      " [0.76414483]] b= [0.23873995]\n",
      "step: 1200 error value: 6.731850395523781e-07 w= [[1.23554061]\n",
      " [0.76391769]] b= [0.23800119]\n",
      "step: 1300 error value: 2.978568330752835e-07 w= [[1.23587307]\n",
      " [0.76376661]] b= [0.23750979]\n",
      "step: 1400 error value: 1.3178946024808186e-07 w= [[1.23609421]\n",
      " [0.76366611]] b= [0.23718292]\n",
      "step: 1500 error value: 5.8311443296572735e-08 w= [[1.23624131]\n",
      " [0.76359926]] b= [0.23696549]\n",
      "step: 1600 error value: 2.5800427537488926e-08 w= [[1.23633916]\n",
      " [0.76355479]] b= [0.23682087]\n",
      "step: 1700 error value: 1.1415633424327627e-08 w= [[1.23640424]\n",
      " [0.76352522]] b= [0.23672466]\n",
      "step: 1800 error value: 5.050950659284582e-09 w= [[1.23644754]\n",
      " [0.76350554]] b= [0.23666067]\n",
      "step: 1900 error value: 2.2348389803476757e-09 w= [[1.23647633]\n",
      " [0.76349245]] b= [0.23661811]\n"
     ]
    }
   ],
   "source": [
    "# 손실함수 구하기 f\n",
    "learning_rate=1e-2\n",
    "f=lambda x: loss_func(x_data1, y_data1)\n",
    "print('Initial error value=',loss_func(x_data1,y_data1),'Initial w=',w1,'b=',b1)\n",
    "\n",
    "# 손실함수 도출가능\n",
    "for step in range(2000):\n",
    "  w1-=learning_rate*numerical_derivative(f,w1)\n",
    "  b1-=learning_rate*numerical_derivative(f,b1)\n",
    "\n",
    "  if step % 100==0:\n",
    "    print('step:',step,'error value:',loss_func(x_data1,y_data1),'w=',w1,'b=',b1)\n"
   ]
  },
  {
   "cell_type": "code",
   "execution_count": 10,
   "metadata": {},
   "outputs": [],
   "source": [
    "# # 손실함수 구하기 f\n",
    "# learning_rate=1e-2\n",
    "# f=lambda x: loss_func(x_data, y_data)\n",
    "# print('Initial error value=',loss_func(x_data,y_data),'Initial w=',w,'b=',b)\n",
    "\n",
    "# # 손실함수 도출가능\n",
    "# for step in range(2000):\n",
    "#   w-=learning_rate*numerical_derivative(f,w)\n",
    "#   b-=learning_rate*numerical_derivative(f,b)\n",
    "\n",
    "#   if step % 100==0:\n",
    "#     print('step:',step,'error value:',loss_func(x_data,y_data),'w=',w,'b=',b)\n"
   ]
  },
  {
   "cell_type": "code",
   "execution_count": 11,
   "metadata": {},
   "outputs": [],
   "source": [
    "# 예측값 찾기 \n",
    "# predict(np.array([7]))"
   ]
  }
 ],
 "metadata": {
  "kernelspec": {
   "display_name": "base",
   "language": "python",
   "name": "python3"
  },
  "language_info": {
   "codemirror_mode": {
    "name": "ipython",
    "version": 3
   },
   "file_extension": ".py",
   "mimetype": "text/x-python",
   "name": "python",
   "nbconvert_exporter": "python",
   "pygments_lexer": "ipython3",
   "version": "3.11.4"
  },
  "orig_nbformat": 4
 },
 "nbformat": 4,
 "nbformat_minor": 2
}
