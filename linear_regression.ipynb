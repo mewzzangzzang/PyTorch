{
 "cells": [
  {
   "cell_type": "code",
   "execution_count": 33,
   "metadata": {},
   "outputs": [],
   "source": [
    "import numpy as np\n"
   ]
  },
  {
   "cell_type": "code",
   "execution_count": 34,
   "metadata": {},
   "outputs": [
    {
     "name": "stdout",
     "output_type": "stream",
     "text": [
      "[[1]\n",
      " [2]\n",
      " [3]\n",
      " [4]\n",
      " [5]]\n",
      "[[ 3]\n",
      " [ 5]\n",
      " [ 7]\n",
      " [ 9]\n",
      " [11]]\n"
     ]
    }
   ],
   "source": [
    "x_data=np.array([1,2,3,4,5]).reshape(5,1)\n",
    "y_data=np.array([3,5,7,9,11]).reshape(5,1)\n",
    "# y=2x+1\n",
    "print(x_data)\n",
    "print(y_data)\n",
    "# 새로 data1 테스트생성\n",
    "x_data1=np.array([[1,2],[2,3],[3,4],[4,5],[5,6]]).reshape(5,2)\n",
    "y_data1=np.array([3,5,7,9,11]).reshape(5,1)"
   ]
  },
  {
   "cell_type": "code",
   "execution_count": 35,
   "metadata": {},
   "outputs": [],
   "source": [
    "# w=np.random.rand(1,1)\n",
    "# b=np.random.rand(1)\n",
    "# print(w,b)\n",
    "w1=np.random.rand(2,1)\n",
    "b1=np.random.rand(1)"
   ]
  },
  {
   "cell_type": "code",
   "execution_count": 36,
   "metadata": {},
   "outputs": [],
   "source": [
    "def loss_func(x,t):\n",
    "  y=np.dot(x,w1)+b1\n",
    "  return (np.sum((t-y)**2))/(len(x))"
   ]
  },
  {
   "cell_type": "code",
   "execution_count": 37,
   "metadata": {},
   "outputs": [],
   "source": [
    "# def loss_func(x,t):\n",
    "#   y=np.dot(x,w)+b\n",
    "#   return (np.sum((t-y)**2))/(len(x))"
   ]
  },
  {
   "cell_type": "code",
   "execution_count": 38,
   "metadata": {},
   "outputs": [],
   "source": [
    "def numerical_derivative(f,x):\n",
    "  delta_x=1e-4\n",
    "  grad=np.zeros_like(x)\n",
    "\n",
    "  it=np.nditer(x,flags=['multi_index'], op_flags=['readwrite'])\n",
    "\n",
    "  while not it.finished:\n",
    "    idx=it.multi_index\n",
    "    tmp_val=x[idx]\n",
    "    x[idx]=float(tmp_val)+delta_x\n",
    "    fx1=f(x)\n",
    "    x[idx]=tmp_val-delta_x\n",
    "    fx2=f(x)\n",
    "\n",
    "    grad[idx]=(fx1-fx2)/(2*delta_x)\n",
    "  \n",
    "\n",
    "    x[idx]=tmp_val\n",
    "    it.iternext()\n",
    "\n",
    "  return grad"
   ]
  },
  {
   "cell_type": "code",
   "execution_count": 39,
   "metadata": {},
   "outputs": [],
   "source": [
    "def predict(x):\n",
    "  y=np.dot(x, w1)+b1\n",
    "  return y"
   ]
  },
  {
   "cell_type": "code",
   "execution_count": 40,
   "metadata": {},
   "outputs": [],
   "source": [
    "# def predict(x):\n",
    "#   y=np.dot(x, w)+b\n",
    "#   return y"
   ]
  },
  {
   "cell_type": "code",
   "execution_count": 41,
   "metadata": {},
   "outputs": [
    {
     "name": "stdout",
     "output_type": "stream",
     "text": [
      "Initial error value= 3.6657699918694133 Initial w= [[0.37276283]\n",
      " [0.84647536]] b= [0.93165151]\n",
      "step: 0 error value: 0.8035594020639293 w= [[0.49784282]\n",
      " [1.00283852]] b= [0.94292083]\n",
      "step: 100 error value: 0.09214810785683031 w= [[0.76955707]\n",
      " [1.03002746]] b= [0.67991755]\n",
      "step: 200 error value: 0.04077176699934927 w= [[0.89255913]\n",
      " [0.9741293 ]] b= [0.49810906]\n",
      "step: 300 error value: 0.01803983850468006 w= [[0.97437716]\n",
      " [0.9369472 ]] b= [0.37717442]\n",
      "step: 400 error value: 0.007981890342895884 w= [[1.02880054]\n",
      " [0.91221455]] b= [0.2967316]\n",
      "step: 500 error value: 0.0035316598554613527 w= [[1.06500166]\n",
      " [0.89576299]] b= [0.24322297]\n",
      "step: 600 error value: 0.0015626149694957891 w= [[1.08908178]\n",
      " [0.88481981]] b= [0.20763031]\n",
      "step: 700 error value: 0.0006913931813439949 w= [[1.1050993 ]\n",
      " [0.87754066]] b= [0.18395494]\n",
      "step: 800 error value: 0.0003059131907351091 w= [[1.11575377]\n",
      " [0.87269875]] b= [0.16820664]\n"
     ]
    },
    {
     "name": "stdout",
     "output_type": "stream",
     "text": [
      "step: 900 error value: 0.00013535406884378464 w= [[1.12284086]\n",
      " [0.86947803]] b= [0.15773126]\n",
      "step: 1000 error value: 5.9888636735595585e-05 w= [[1.12755503]\n",
      " [0.86733568]] b= [0.15076328]\n",
      "step: 1100 error value: 2.6498271095108475e-05 w= [[1.13069078]\n",
      " [0.86591065]] b= [0.14612835]\n",
      "step: 1200 error value: 1.1724400642643198e-05 w= [[1.1327766 ]\n",
      " [0.86496274]] b= [0.14304531]\n",
      "step: 1300 error value: 5.187567518494446e-06 w= [[1.13416405]\n",
      " [0.86433222]] b= [0.14099454]\n",
      "step: 1400 error value: 2.2952863501663332e-06 w= [[1.13508694]\n",
      " [0.86391282]] b= [0.13963042]\n",
      "step: 1500 error value: 1.0155702861650821e-06 w= [[1.13570082]\n",
      " [0.86363384]] b= [0.13872304]\n",
      "step: 1600 error value: 4.4934829419761193e-07 w= [[1.13610917]\n",
      " [0.86344827]] b= [0.13811947]\n",
      "step: 1700 error value: 1.988182327201251e-07 w= [[1.13638079]\n",
      " [0.86332483]] b= [0.13771799]\n",
      "step: 1800 error value: 8.796893227863459e-08 w= [[1.13656146]\n",
      " [0.86324272]] b= [0.13745094]\n",
      "step: 1900 error value: 3.892265281903126e-08 w= [[1.13668164]\n",
      " [0.86318811]] b= [0.1372733]\n"
     ]
    }
   ],
   "source": [
    "# 손실함수 구하기 f\n",
    "learning_rate=1e-2\n",
    "f=lambda x: loss_func(x_data1, y_data1)\n",
    "print('Initial error value=',loss_func(x_data1,y_data1),'Initial w=',w1,'b=',b1)\n",
    "\n",
    "# 손실함수 도출가능\n",
    "for step in range(2000):\n",
    "  w1-=learning_rate*numerical_derivative(f,w1)\n",
    "  b1-=learning_rate*numerical_derivative(f,b1)\n",
    "\n",
    "  if step % 100==0:\n",
    "    print('step:',step,'error value:',loss_func(x_data1,y_data1),'w=',w1,'b=',b1)\n"
   ]
  },
  {
   "cell_type": "code",
   "execution_count": 42,
   "metadata": {},
   "outputs": [],
   "source": [
    "# # 손실함수 구하기 f\n",
    "# learning_rate=1e-2\n",
    "# f=lambda x: loss_func(x_data, y_data)\n",
    "# print('Initial error value=',loss_func(x_data,y_data),'Initial w=',w,'b=',b)\n",
    "\n",
    "# # 손실함수 도출가능\n",
    "# for step in range(2000):\n",
    "#   w-=learning_rate*numerical_derivative(f,w)\n",
    "#   b-=learning_rate*numerical_derivative(f,b)\n",
    "\n",
    "#   if step % 100==0:\n",
    "#     print('step:',step,'error value:',loss_func(x_data,y_data),'w=',w,'b=',b)\n"
   ]
  },
  {
   "cell_type": "code",
   "execution_count": 43,
   "metadata": {},
   "outputs": [
    {
     "ename": "ValueError",
     "evalue": "shapes (1,) and (2,1) not aligned: 1 (dim 0) != 2 (dim 0)",
     "output_type": "error",
     "traceback": [
      "\u001b[1;31m---------------------------------------------------------------------------\u001b[0m",
      "\u001b[1;31mValueError\u001b[0m                                Traceback (most recent call last)",
      "\u001b[1;32mc:\\Users\\it\\Desktop\\pytorch0913\\linear_regression.ipynb Cell 11\u001b[0m line \u001b[0;36m2\n\u001b[0;32m      <a href='vscode-notebook-cell:/c%3A/Users/it/Desktop/pytorch0913/linear_regression.ipynb#X10sZmlsZQ%3D%3D?line=0'>1</a>\u001b[0m \u001b[39m# 예측값 찾기 \u001b[39;00m\n\u001b[1;32m----> <a href='vscode-notebook-cell:/c%3A/Users/it/Desktop/pytorch0913/linear_regression.ipynb#X10sZmlsZQ%3D%3D?line=1'>2</a>\u001b[0m predict(np\u001b[39m.\u001b[39marray([\u001b[39m7\u001b[39m]))\n",
      "\u001b[1;32mc:\\Users\\it\\Desktop\\pytorch0913\\linear_regression.ipynb Cell 11\u001b[0m line \u001b[0;36m2\n\u001b[0;32m      <a href='vscode-notebook-cell:/c%3A/Users/it/Desktop/pytorch0913/linear_regression.ipynb#X10sZmlsZQ%3D%3D?line=0'>1</a>\u001b[0m \u001b[39mdef\u001b[39;00m \u001b[39mpredict\u001b[39m(x):\n\u001b[1;32m----> <a href='vscode-notebook-cell:/c%3A/Users/it/Desktop/pytorch0913/linear_regression.ipynb#X10sZmlsZQ%3D%3D?line=1'>2</a>\u001b[0m   y\u001b[39m=\u001b[39mnp\u001b[39m.\u001b[39mdot(x, w1)\u001b[39m+\u001b[39mb1\n\u001b[0;32m      <a href='vscode-notebook-cell:/c%3A/Users/it/Desktop/pytorch0913/linear_regression.ipynb#X10sZmlsZQ%3D%3D?line=2'>3</a>\u001b[0m   \u001b[39mreturn\u001b[39;00m y\n",
      "File \u001b[1;32m<__array_function__ internals>:200\u001b[0m, in \u001b[0;36mdot\u001b[1;34m(*args, **kwargs)\u001b[0m\n",
      "\u001b[1;31mValueError\u001b[0m: shapes (1,) and (2,1) not aligned: 1 (dim 0) != 2 (dim 0)"
     ]
    }
   ],
   "source": [
    "# 예측값 찾기 \n",
    "# predict(np.array([7]))"
   ]
  }
 ],
 "metadata": {
  "kernelspec": {
   "display_name": "base",
   "language": "python",
   "name": "python3"
  },
  "language_info": {
   "codemirror_mode": {
    "name": "ipython",
    "version": 3
   },
   "file_extension": ".py",
   "mimetype": "text/x-python",
   "name": "python",
   "nbconvert_exporter": "python",
   "pygments_lexer": "ipython3",
   "version": "3.11.4"
  },
  "orig_nbformat": 4
 },
 "nbformat": 4,
 "nbformat_minor": 2
}
