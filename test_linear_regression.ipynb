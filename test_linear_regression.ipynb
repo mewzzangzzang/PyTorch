{
 "cells": [
  {
   "cell_type": "code",
   "execution_count": 113,
   "metadata": {},
   "outputs": [],
   "source": [
    "import numpy as np"
   ]
  },
  {
   "cell_type": "markdown",
   "metadata": {},
   "source": [
    "[[73.,80.,75.,],[93.,88.,93.],[89.,91.,90.],[96.,98.,100.,],[73.,66.,70.]]\n",
    "[[152.],[185.],[180.],[196.],[142.]]"
   ]
  },
  {
   "cell_type": "code",
   "execution_count": 114,
   "metadata": {},
   "outputs": [],
   "source": [
    "x_data=np.array([[73.,80.,75.,],[93.,88.,93.],[89.,91.,90.],[96.,98.,100.,],[73.,66.,70.]]).reshape(5,3)\n",
    "t_data=np.array([[152.],[185.],[180.],[196.],[142.]]).reshape(5,1)\n",
    "\n",
    "w=np.random.rand(3,1)\n",
    "b=np.random.rand(1)"
   ]
  },
  {
   "cell_type": "code",
   "execution_count": 115,
   "metadata": {},
   "outputs": [],
   "source": [
    "# 손실함수\n",
    "def loss_func(x,t):\n",
    "  y=np.dot(x,w)+b\n",
    "  return (np.sum((t-y)**2))/(len(x))"
   ]
  },
  {
   "cell_type": "code",
   "execution_count": 116,
   "metadata": {},
   "outputs": [],
   "source": [
    "# 미분함수\n",
    "def numerical_derivative(f,x):\n",
    "  delta_x=1e-4\n",
    "  grad=np.zeros_like(x)\n",
    "\n",
    "  # 다중차원미분   \n",
    "  it=np.nditer(x,flags=['multi_index'], op_flags=['readwrite'])\n",
    "\n",
    "  while not it.finished:\n",
    "    idx=it.multi_index\n",
    "    tmp_val=x[idx]\n",
    "    x[idx]=float(tmp_val)+delta_x\n",
    "    fx1=f(x)\n",
    "    x[idx]=tmp_val-delta_x\n",
    "    fx2=f(x)\n",
    "\n",
    "    grad[idx]=(fx1-fx2)/(2*delta_x)\n",
    "  \n",
    "\n",
    "    x[idx]=tmp_val\n",
    "    it.iternext()\n",
    "\n",
    "  return grad"
   ]
  },
  {
   "cell_type": "code",
   "execution_count": 117,
   "metadata": {},
   "outputs": [],
   "source": [
    "def predict(x):\n",
    "  y=np.dot(x, w)+b\n",
    "  return y"
   ]
  },
  {
   "cell_type": "code",
   "execution_count": 118,
   "metadata": {},
   "outputs": [
    {
     "name": "stdout",
     "output_type": "stream",
     "text": [
      "step: 0\n",
      "error value: 1261677240.2325244\n",
      "w= [[141.29820625]\n",
      " [140.88227093]\n",
      " [142.88172313]] b= [-718.86077044]\n",
      "step: 400\n",
      "error value: 1.5804759128326672e+30\n",
      "w= [[4.76694305e+12]\n",
      " [4.82064077e+12]\n",
      " [5.08893442e+12]] b= [-1.32811119e+08]\n",
      "step: 800\n",
      "error value: 1.5804759128326672e+30\n",
      "w= [[4.76694305e+12]\n",
      " [4.82064077e+12]\n",
      " [5.08893442e+12]] b= [-1.32811119e+08]\n"
     ]
    },
    {
     "name": "stdout",
     "output_type": "stream",
     "text": [
      "step: 1200\n",
      "error value: 1.5804759128326672e+30\n",
      "w= [[4.76694305e+12]\n",
      " [4.82064077e+12]\n",
      " [5.08893442e+12]] b= [-1.32811119e+08]\n",
      "step: 1600\n",
      "error value: 1.5804759128326672e+30\n",
      "w= [[4.76694305e+12]\n",
      " [4.82064077e+12]\n",
      " [5.08893442e+12]] b= [-1.32811119e+08]\n",
      "step: 2000\n",
      "error value: 1.5804759128326672e+30\n",
      "w= [[4.76694305e+12]\n",
      " [4.82064077e+12]\n",
      " [5.08893442e+12]] b= [-1.32811119e+08]\n"
     ]
    }
   ],
   "source": [
    "# 손실함수 러닝\n",
    "learning_rate=1e-2\n",
    "f=lambda x: loss_func(x_data, t_data)\n",
    "# print('Initial error value=',loss_func(x_data,t_data),'Initial w=',w,'b=',b)\n",
    "\n",
    "# 손실함수 도출가능\n",
    "for step in range(2001):\n",
    "  w-=learning_rate*numerical_derivative(f,w)\n",
    "  b-=learning_rate*numerical_derivative(f,b)\n",
    "\n",
    "\n",
    "  if step % 400==0:\n",
    "    print('step:',step)\n",
    "    print('error value:',loss_func(x_data,t_data))\n",
    "    print('w=',w,'b=',b)"
   ]
  },
  {
   "cell_type": "code",
   "execution_count": 119,
   "metadata": {},
   "outputs": [
    {
     "data": {
      "text/plain": [
       "array([[1.30000322e+15],\n",
       "       [1.29356339e+15]])"
      ]
     },
     "execution_count": 119,
     "metadata": {},
     "output_type": "execute_result"
    }
   ],
   "source": [
    "# 예측값 찾기 \n",
    "predict(np.array([[80,85,100],[100,85,80]]))"
   ]
  }
 ],
 "metadata": {
  "kernelspec": {
   "display_name": "base",
   "language": "python",
   "name": "python3"
  },
  "language_info": {
   "codemirror_mode": {
    "name": "ipython",
    "version": 3
   },
   "file_extension": ".py",
   "mimetype": "text/x-python",
   "name": "python",
   "nbconvert_exporter": "python",
   "pygments_lexer": "ipython3",
   "version": "3.11.4"
  },
  "orig_nbformat": 4
 },
 "nbformat": 4,
 "nbformat_minor": 2
}
