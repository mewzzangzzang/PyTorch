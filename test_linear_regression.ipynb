{
 "cells": [
  {
   "cell_type": "code",
   "execution_count": 1,
   "metadata": {},
   "outputs": [],
   "source": [
    "import numpy as np"
   ]
  },
  {
   "cell_type": "markdown",
   "metadata": {},
   "source": [
    "[[73.,80.,75.,],[93.,88.,93.],[89.,91.,90.],[96.,98.,100.,],[73.,66.,70.]]\n",
    "[[152.],[185.],[180.],[196.],[142.]]"
   ]
  },
  {
   "cell_type": "code",
   "execution_count": 2,
   "metadata": {},
   "outputs": [],
   "source": [
    "x_data=np.array([[73.,80.,75.,],[93.,88.,93.],[89.,91.,90.],[96.,98.,100.,],[73.,66.,70.]]).reshape(5,3)\n",
    "t_data=np.array([[152.],[185.],[180.],[196.],[142.]]).reshape(5,1)\n",
    "\n",
    "w=np.random.rand(3,1)\n",
    "b=np.random.rand(1)"
   ]
  },
  {
   "cell_type": "code",
   "execution_count": 3,
   "metadata": {},
   "outputs": [],
   "source": [
    "# 손실함수\n",
    "def loss_func(x,t):\n",
    "  y=np.dot(x,w)+b\n",
    "  return (np.sum((t-y)**2))/(len(x))"
   ]
  },
  {
   "cell_type": "code",
   "execution_count": 4,
   "metadata": {},
   "outputs": [],
   "source": [
    "# 미분함수\n",
    "def numerical_derivative(f,x):\n",
    "  delta_x=1e-4\n",
    "  grad=np.zeros_like(x)\n",
    "\n",
    "  it=np.nditer(x,flags=['multi_index'], op_flags=['readwrite'])\n",
    "\n",
    "  while not it.finished:\n",
    "    idx=it.multi_index\n",
    "    tmp_val=x[idx]\n",
    "    x[idx]=float(tmp_val)+delta_x\n",
    "    fx1=f(x)\n",
    "    x[idx]=tmp_val-delta_x\n",
    "    fx2=f(x)\n",
    "\n",
    "    grad[idx]=(fx1-fx2)/(2*delta_x)\n",
    "  \n",
    "\n",
    "    x[idx]=tmp_val\n",
    "    it.iternext()\n",
    "\n",
    "  return grad"
   ]
  },
  {
   "cell_type": "code",
   "execution_count": 5,
   "metadata": {},
   "outputs": [],
   "source": [
    "def predict(x):\n",
    "  y=np.dot(x, w)+b\n",
    "  return y"
   ]
  },
  {
   "cell_type": "code",
   "execution_count": 6,
   "metadata": {},
   "outputs": [
    {
     "name": "stdout",
     "output_type": "stream",
     "text": [
      "Initial error value= 544.0198727719288 Initial w= [[0.93024736]\n",
      " [0.28419495]\n",
      " [0.52139735]] b= [0.27381105]\n",
      "step: 0 error value: 100732852.41652258 w= [[40.70785968]\n",
      " [40.06775191]\n",
      " [40.77156247]] b= [-202.94774698]\n",
      "step: 100 error value: 1.2479475924284894e+29 w= [[1.36585381e+12]\n",
      " [1.36585687e+12]\n",
      " [1.39266037e+12]] b= [1.33842537e+10]\n",
      "step: 200 error value: 1.2479475924284894e+29 w= [[1.36585381e+12]\n",
      " [1.36585687e+12]\n",
      " [1.39266037e+12]] b= [1.33842537e+10]\n",
      "step: 300 error value: 1.2479475924284894e+29 w= [[1.36585381e+12]\n",
      " [1.36585687e+12]\n",
      " [1.39266037e+12]] b= [1.33842537e+10]\n",
      "step: 400 error value: 1.2479475924284894e+29 w= [[1.36585381e+12]\n",
      " [1.36585687e+12]\n",
      " [1.39266037e+12]] b= [1.33842537e+10]\n",
      "step: 500 error value: 1.2479475924284894e+29 w= [[1.36585381e+12]\n",
      " [1.36585687e+12]\n",
      " [1.39266037e+12]] b= [1.33842537e+10]\n",
      "step: 600 error value: 1.2479475924284894e+29 w= [[1.36585381e+12]\n",
      " [1.36585687e+12]\n",
      " [1.39266037e+12]] b= [1.33842537e+10]\n",
      "step: 700 error value: 1.2479475924284894e+29 w= [[1.36585381e+12]\n",
      " [1.36585687e+12]\n",
      " [1.39266037e+12]] b= [1.33842537e+10]\n",
      "step: 800 error value: 1.2479475924284894e+29 w= [[1.36585381e+12]\n",
      " [1.36585687e+12]\n",
      " [1.39266037e+12]] b= [1.33842537e+10]\n",
      "step: 900 error value: 1.2479475924284894e+29 w= [[1.36585381e+12]\n",
      " [1.36585687e+12]\n",
      " [1.39266037e+12]] b= [1.33842537e+10]\n",
      "step: 1000 error value: 1.2479475924284894e+29 w= [[1.36585381e+12]\n",
      " [1.36585687e+12]\n",
      " [1.39266037e+12]] b= [1.33842537e+10]\n",
      "step: 1100 error value: 1.2479475924284894e+29 w= [[1.36585381e+12]\n",
      " [1.36585687e+12]\n",
      " [1.39266037e+12]] b= [1.33842537e+10]\n"
     ]
    },
    {
     "name": "stdout",
     "output_type": "stream",
     "text": [
      "step: 1200 error value: 1.2479475924284894e+29 w= [[1.36585381e+12]\n",
      " [1.36585687e+12]\n",
      " [1.39266037e+12]] b= [1.33842537e+10]\n",
      "step: 1300 error value: 1.2479475924284894e+29 w= [[1.36585381e+12]\n",
      " [1.36585687e+12]\n",
      " [1.39266037e+12]] b= [1.33842537e+10]\n",
      "step: 1400 error value: 1.2479475924284894e+29 w= [[1.36585381e+12]\n",
      " [1.36585687e+12]\n",
      " [1.39266037e+12]] b= [1.33842537e+10]\n",
      "step: 1500 error value: 1.2479475924284894e+29 w= [[1.36585381e+12]\n",
      " [1.36585687e+12]\n",
      " [1.39266037e+12]] b= [1.33842537e+10]\n",
      "step: 1600 error value: 1.2479475924284894e+29 w= [[1.36585381e+12]\n",
      " [1.36585687e+12]\n",
      " [1.39266037e+12]] b= [1.33842537e+10]\n",
      "step: 1700 error value: 1.2479475924284894e+29 w= [[1.36585381e+12]\n",
      " [1.36585687e+12]\n",
      " [1.39266037e+12]] b= [1.33842537e+10]\n",
      "step: 1800 error value: 1.2479475924284894e+29 w= [[1.36585381e+12]\n",
      " [1.36585687e+12]\n",
      " [1.39266037e+12]] b= [1.33842537e+10]\n",
      "step: 1900 error value: 1.2479475924284894e+29 w= [[1.36585381e+12]\n",
      " [1.36585687e+12]\n",
      " [1.39266037e+12]] b= [1.33842537e+10]\n"
     ]
    }
   ],
   "source": [
    "# 손실함수 러닝\n",
    "learning_rate=1e-2\n",
    "f=lambda x: loss_func(x_data, t_data)\n",
    "print('Initial error value=',loss_func(x_data,t_data),'Initial w=',w,'b=',b)\n",
    "\n",
    "# 손실함수 도출가능\n",
    "for step in range(2000):\n",
    "  w-=learning_rate*numerical_derivative(f,w)\n",
    "  b-=learning_rate*numerical_derivative(f,b)\n",
    "\n",
    "  if step % 100==0:\n",
    "    print('step:',step,'error value:',loss_func(x_data,t_data),'w=',w,'b=',b)"
   ]
  },
  {
   "cell_type": "code",
   "execution_count": 9,
   "metadata": {},
   "outputs": [
    {
     "ename": "TypeError",
     "evalue": "array() missing required argument 'object' (pos 0)",
     "output_type": "error",
     "traceback": [
      "\u001b[1;31m---------------------------------------------------------------------------\u001b[0m",
      "\u001b[1;31mTypeError\u001b[0m                                 Traceback (most recent call last)",
      "\u001b[1;32mc:\\Users\\it\\Desktop\\pytorch0913\\test_linear_regression.ipynb Cell 8\u001b[0m line \u001b[0;36m2\n\u001b[0;32m      <a href='vscode-notebook-cell:/c%3A/Users/it/Desktop/pytorch0913/test_linear_regression.ipynb#X10sZmlsZQ%3D%3D?line=0'>1</a>\u001b[0m \u001b[39m# 예측값 찾기 \u001b[39;00m\n\u001b[1;32m----> <a href='vscode-notebook-cell:/c%3A/Users/it/Desktop/pytorch0913/test_linear_regression.ipynb#X10sZmlsZQ%3D%3D?line=1'>2</a>\u001b[0m predict(np\u001b[39m.\u001b[39marray())\n",
      "\u001b[1;31mTypeError\u001b[0m: array() missing required argument 'object' (pos 0)"
     ]
    }
   ],
   "source": [
    "# 예측값 찾기 \n",
    "predict(np.array())"
   ]
  }
 ],
 "metadata": {
  "kernelspec": {
   "display_name": "base",
   "language": "python",
   "name": "python3"
  },
  "language_info": {
   "codemirror_mode": {
    "name": "ipython",
    "version": 3
   },
   "file_extension": ".py",
   "mimetype": "text/x-python",
   "name": "python",
   "nbconvert_exporter": "python",
   "pygments_lexer": "ipython3",
   "version": "3.11.4"
  },
  "orig_nbformat": 4
 },
 "nbformat": 4,
 "nbformat_minor": 2
}
